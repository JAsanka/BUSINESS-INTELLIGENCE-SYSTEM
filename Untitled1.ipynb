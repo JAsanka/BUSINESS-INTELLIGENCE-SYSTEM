{
 "cells": [
  {
   "cell_type": "code",
   "execution_count": null,
   "metadata": {
    "collapsed": true
   },
   "outputs": [],
   "source": [
    "import pandas as pd\n",
    "import seaborn as sns\n",
    "import matplotlib.pyplot as plt\n",
    "import numpy as np"
   ]
  },
  {
   "cell_type": "code",
   "execution_count": null,
   "metadata": {},
   "outputs": [],
   "source": [
    "file = \"datasets\\\\new_sets.zip\"\n",
    "df = pd.read_csv(file, index_col=0, compression=\"zip\")"
   ]
  },
  {
   "cell_type": "code",
   "execution_count": null,
   "metadata": {},
   "outputs": [],
   "source": [
    "df.head()"
   ]
  },
  {
   "cell_type": "code",
   "execution_count": null,
   "metadata": {},
   "outputs": [],
   "source": [
    "desc = df[\"Description\"].value_counts()\n",
    "df[\"InvoiceDate\"] = pd.to_datetime(df[\"InvoiceDate\"]).dt.date\n",
    "df.head()"
   ]
  },
  {
   "cell_type": "markdown",
   "metadata": {},
   "source": [
    "# Product should be kept"
   ]
  },
  {
   "cell_type": "code",
   "execution_count": null,
   "metadata": {},
   "outputs": [],
   "source": [
    "plt.figure(figsize=(12,8))\n",
    "sns.barplot(desc.head(40).index, desc.head(40).values)\n",
    "plt.xticks(rotation=\"vertical\")\n",
    "plt.title(\"Most Item sold from 2010-2011\", fontsize=20)\n",
    "plt.xlabel(\"Item Description\", fontsize=15)\n",
    "plt.ylabel(\"Item Quantity\")\n",
    "plt.show()"
   ]
  },
  {
   "cell_type": "markdown",
   "metadata": {},
   "source": [
    "# Items sold within a Year"
   ]
  },
  {
   "cell_type": "code",
   "execution_count": null,
   "metadata": {},
   "outputs": [],
   "source": [
    "inv_data = df[\"InvoiceDate\"].value_counts().sort_index()\n",
    "inv_data.head()"
   ]
  },
  {
   "cell_type": "code",
   "execution_count": null,
   "metadata": {},
   "outputs": [],
   "source": [
    "plt.figure(figsize=(12,8))\n",
    "inv_data.plot(color=\"red\")\n",
    "plt.xticks(rotation=\"vertical\", fontsize=15)\n",
    "plt.title(\"Summary for item release in a Year\", fontsize=20)\n",
    "plt.xlabel(\"Months\", fontsize=15)\n",
    "plt.ylabel(\"Item Release Quantity\", fontsize=15)\n",
    "plt.show()"
   ]
  },
  {
   "cell_type": "markdown",
   "metadata": {},
   "source": [
    "# Customer who buy more often"
   ]
  },
  {
   "cell_type": "code",
   "execution_count": null,
   "metadata": {},
   "outputs": [],
   "source": [
    "custID = df[\"CustomerID\"].value_counts().reset_index()\n",
    "custID.columns = [\"CustID\",\"Items they buyed\"]\n",
    "custID[\"CustID\"] = custID[\"CustID\"].apply(str)\n",
    "custIDx = custID.sort_values(\"Items they buyed\", ascending=False).head(40)\n",
    "custIDx.head()"
   ]
  },
  {
   "cell_type": "code",
   "execution_count": null,
   "metadata": {},
   "outputs": [],
   "source": [
    "plt.figure(figsize=(12,8))\n",
    "g = sns.barplot(custIDx.index, custIDx[\"Items they buyed\"])\n",
    "g.set_xticklabels(custIDx[\"CustID\"], rotation=\"vertical\")\n",
    "plt.title(\"Customer who buy more often\", fontsize=20)\n",
    "plt.xlabel(\"Customer ID\", fontsize=15)\n",
    "plt.ylabel(\"Item Frequency\", fontsize=15)\n",
    "plt.show()"
   ]
  },
  {
   "cell_type": "code",
   "execution_count": null,
   "metadata": {},
   "outputs": [],
   "source": [
    "df.head()"
   ]
  },
  {
   "cell_type": "code",
   "execution_count": null,
   "metadata": {},
   "outputs": [],
   "source": [
    "prod_prof = df\n",
    "prod_prof[\"TotalAmount\"] = prod_prof[\"Quantity\"]*prod_prof[\"UnitPrice\"]\n",
    "prod_prof.head()"
   ]
  },
  {
   "cell_type": "code",
   "execution_count": null,
   "metadata": {},
   "outputs": [],
   "source": [
    "prod_prof[\"TotalAmount\"].sum() # Anually Sale"
   ]
  },
  {
   "cell_type": "code",
   "execution_count": null,
   "metadata": {},
   "outputs": [],
   "source": [
    "total_amount = prod_prof.groupby(\"InvoiceDate\")[\"TotalAmount\"].agg({\"TotalAmount\":[\"sum\",\"count\"]})\n",
    "total_amount.head()"
   ]
  },
  {
   "cell_type": "code",
   "execution_count": null,
   "metadata": {
    "scrolled": false
   },
   "outputs": [],
   "source": [
    "plt.figure(figsize=(12,8))\n",
    "tA = total_amount[\"TotalAmount\"][\"sum\"]\n",
    "tA.plot()\n",
    "plt.xticks(rotation=\"vertical\")\n",
    "plt.title(\"Sale Every Month\", fontsize=20)\n",
    "plt.xlabel(\"Year\", fontsize=15)\n",
    "plt.ylabel(\"Total Sale\", fontsize=15)\n",
    "plt.show()"
   ]
  },
  {
   "cell_type": "raw",
   "metadata": {},
   "source": []
  },
  {
   "cell_type": "code",
   "execution_count": null,
   "metadata": {
    "collapsed": true
   },
   "outputs": [],
   "source": []
  },
  {
   "cell_type": "code",
   "execution_count": null,
   "metadata": {
    "collapsed": true
   },
   "outputs": [],
   "source": []
  }
 ],
 "metadata": {
  "kernelspec": {
   "display_name": "Python 3",
   "language": "python",
   "name": "python3"
  },
  "language_info": {
   "codemirror_mode": {
    "name": "ipython",
    "version": 3
   },
   "file_extension": ".py",
   "mimetype": "text/x-python",
   "name": "python",
   "nbconvert_exporter": "python",
   "pygments_lexer": "ipython3",
   "version": "3.6.2"
  }
 },
 "nbformat": 4,
 "nbformat_minor": 2
}
