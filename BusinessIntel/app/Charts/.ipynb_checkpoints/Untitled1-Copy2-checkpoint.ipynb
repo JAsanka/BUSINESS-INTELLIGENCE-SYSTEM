{
 "cells": [
  {
   "cell_type": "code",
   "execution_count": 9,
   "metadata": {
    "collapsed": true
   },
   "outputs": [],
   "source": [
    "import pandas as pd\n",
    "import seaborn as sns\n",
    "import matplotlib.pyplot as plt\n",
    "import numpy as np"
   ]
  },
  {
   "cell_type": "code",
   "execution_count": null,
   "metadata": {},
   "outputs": [],
   "source": [
    "file = \"new_sets.csv\"\n",
    "df = pd.read_csv(file, index_col=0)\n",
    "desc = df[\"Description\"].value_counts()\n",
    "df[\"InvoiceDate\"] = pd.to_datetime(df[\"InvoiceDate\"]).dt.date\n"
   ]
  },
  {
   "cell_type": "markdown",
   "metadata": {},
   "source": [
    "I clean the datasets here"
   ]
  },
  {
   "cell_type": "code",
   "execution_count": null,
   "metadata": {},
   "outputs": [],
   "source": []
  },
  {
   "cell_type": "markdown",
   "metadata": {},
   "source": [
    "# Product should be kept"
   ]
  },
  {
   "cell_type": "markdown",
   "metadata": {},
   "source": [
    "##### We can see here in the bar Chart the items need to be kept and order more quantity and we can answer the question what product most profitable and product to be kept"
   ]
  },
  {
   "cell_type": "code",
   "execution_count": null,
   "metadata": {},
   "outputs": [],
   "source": [
    "plt.figure(figsize=(12,8))\n",
    "sns.barplot(desc.head(40).index, desc.head(40).values)\n",
    "plt.xticks(rotation=\"vertical\")\n",
    "plt.title(\"Most Item sold from 2010-2011\", fontsize=20)\n",
    "plt.xlabel(\"Item Description\", fontsize=15)\n",
    "plt.ylabel(\"Item Quantity\")\n",
    "#plt.show()"
   ]
  },
  {
   "cell_type": "markdown",
   "metadata": {},
   "source": [
    "# Items sold within a Year"
   ]
  },
  {
   "cell_type": "code",
   "execution_count": null,
   "metadata": {},
   "outputs": [],
   "source": [
    "inv_data = df[\"InvoiceDate\"].value_counts().sort_index()\n",
    "inv_data.head()"
   ]
  },
  {
   "cell_type": "markdown",
   "metadata": {},
   "source": [
    "#### Here at the new chart, we can see the summary items most purchased by  months."
   ]
  },
  {
   "cell_type": "code",
   "execution_count": null,
   "metadata": {},
   "outputs": [],
   "source": [
    "plt.figure(figsize=(12,8))\n",
    "inv_data.plot(color=\"red\")\n",
    "plt.xticks(rotation=\"vertical\", fontsize=15)\n",
    "plt.title(\"Summary for item Sold in a Year\", fontsize=20)\n",
    "plt.xlabel(\"Months\", fontsize=15)\n",
    "plt.ylabel(\"Item Release Quantity\", fontsize=15)\n",
    "plt.show()"
   ]
  },
  {
   "cell_type": "markdown",
   "metadata": {},
   "source": [
    "# Customer who buy more often"
   ]
  },
  {
   "cell_type": "markdown",
   "metadata": {},
   "source": [
    "#### Here we can see at the chart below the customer who purchased more using by their Customer ID"
   ]
  },
  {
   "cell_type": "code",
   "execution_count": null,
   "metadata": {},
   "outputs": [],
   "source": [
    "custID = df[\"CustomerID\"].value_counts().reset_index()\n",
    "custID.columns = [\"CustID\",\"Items they buyed\"]\n",
    "custID[\"CustID\"] = custID[\"CustID\"].apply(str)\n",
    "custIDx = custID.sort_values(\"Items they buyed\", ascending=False).head(40)\n",
    "custIDx.head()"
   ]
  },
  {
   "cell_type": "markdown",
   "metadata": {},
   "source": [
    "#   "
   ]
  },
  {
   "cell_type": "code",
   "execution_count": null,
   "metadata": {},
   "outputs": [],
   "source": [
    "plt.figure(figsize=(12,8))\n",
    "g = sns.barplot(custIDx.index, custIDx[\"Items they buyed\"])\n",
    "g.set_xticklabels(custIDx[\"CustID\"], rotation=\"vertical\")\n",
    "plt.title(\"Customer who buy more often\", fontsize=20)\n",
    "plt.xlabel(\"Customer ID\", fontsize=15)\n",
    "plt.ylabel(\"Item Frequency\", fontsize=15)\n",
    "plt.show()"
   ]
  },
  {
   "cell_type": "markdown",
   "metadata": {},
   "source": [
    "#  "
   ]
  },
  {
   "cell_type": "markdown",
   "metadata": {},
   "source": [
    "##### I Add the Total Amount for the item they purchased \"Quantity\" x \"Unit Price\" = \"Total Amount\", so I can graph the total amount they purchased per Customer"
   ]
  },
  {
   "cell_type": "code",
   "execution_count": null,
   "metadata": {},
   "outputs": [],
   "source": [
    "\n",
    "\n",
    "file = \"new_sets.csv\"\n",
    "df = pd.read_csv(file, index_col=0)\n",
    "desc = df[\"Description\"].value_counts()\n",
    "df[\"InvoiceDate\"] = pd.to_datetime(df[\"InvoiceDate\"]).dt.date\n",
    "\n",
    "prod_prof = df\n",
    "prod_prof[\"TotalAmount\"] = prod_prof[\"Quantity\"]*prod_prof[\"UnitPrice\"]\n",
    "prod_prof.head()"
   ]
  },
  {
   "cell_type": "code",
   "execution_count": null,
   "metadata": {},
   "outputs": [],
   "source": [
    "\n",
    "\n",
    "file = \"new_sets.csv\"\n",
    "df = pd.read_csv(file, index_col=0)\n",
    "desc = df[\"Description\"].value_counts()\n",
    "df[\"InvoiceDate\"] = pd.to_datetime(df[\"InvoiceDate\"]).dt.date\n",
    "\n",
    "prod_prof = df\n",
    "prod_prof[\"TotalAmount\"] = prod_prof[\"Quantity\"]*prod_prof[\"UnitPrice\"]\n",
    "\n",
    "prod_prof[\"TotalAmount\"].sum() # Anually Sale"
   ]
  },
  {
   "cell_type": "code",
   "execution_count": null,
   "metadata": {},
   "outputs": [],
   "source": [
    "total_amount = prod_prof.groupby(\"InvoiceDate\")[\"TotalAmount\",\"Quantity\",\"UnitPrice\"].agg({\"TotalAmount\":[\"sum\",\"count\"],\n",
    "                                                                                           \"Quantity\":[\"sum\",\"count\"],\n",
    "                                                                                            \"UnitPrice\":[\"sum\",\"count\"]})\n",
    "total_amount.head()"
   ]
  },
  {
   "cell_type": "markdown",
   "metadata": {},
   "source": [
    "#   "
   ]
  },
  {
   "cell_type": "markdown",
   "metadata": {},
   "source": [
    "### We can put this as a  special occasions  products will be sold more "
   ]
  },
  {
   "cell_type": "code",
   "execution_count": null,
   "metadata": {},
   "outputs": [],
   "source": [
    "\n",
    "\n",
    "file = \"new_sets.csv\"\n",
    "df = pd.read_csv(file, index_col=0)\n",
    "desc = df[\"Description\"].value_counts()\n",
    "df[\"InvoiceDate\"] = pd.to_datetime(df[\"InvoiceDate\"]).dt.date\n",
    "\n",
    "prod_prof = df\n",
    "prod_prof[\"TotalAmount\"] = prod_prof[\"Quantity\"]*prod_prof[\"UnitPrice\"]\n",
    "\n",
    "prod_prof[\"TotalAmount\"].sum() # Anually Sale\n",
    "monthly_prod = prod_prof[[\"InvoiceDate\",'CustomerID',\"Description\"]]\n",
    "\n",
    "start_date = \"2010-12-01\" # YYYY-MM-DD\n",
    "end_date = \"2010-12-02\" # YYYY-MM-DD"
   ]
  },
  {
   "cell_type": "code",
   "execution_count": null,
   "metadata": {
    "collapsed": true,
    "scrolled": false
   },
   "outputs": [],
   "source": [
    "start_date = \"2010-12-01\" # YYYY-MM-DD\n",
    "end_date = \"2010-12-02\" # YYYY-MM-DD"
   ]
  },
  {
   "cell_type": "code",
   "execution_count": 33,
   "metadata": {},
   "outputs": [
    {
     "ename": "IndentationError",
     "evalue": "unindent does not match any outer indentation level (<tokenize>, line 68)",
     "output_type": "error",
     "traceback": [
      "\u001b[0;36m  File \u001b[0;32m\"<tokenize>\"\u001b[0;36m, line \u001b[0;32m68\u001b[0m\n\u001b[0;31m    data={\u001b[0m\n\u001b[0m    ^\u001b[0m\n\u001b[0;31mIndentationError\u001b[0m\u001b[0;31m:\u001b[0m unindent does not match any outer indentation level\n"
     ]
    }
   ],
   "source": [
    "# from django.shortcuts import render,render_to_response\n",
    "# from django.template import loader\n",
    "# #from django.http import JsonResponse\n",
    "# from rest_framework.views import APIView\n",
    "# from rest_framework.response import Response\n",
    "\n",
    "import pandas as pd\n",
    "# import seaborn as sns\n",
    "# import matplotlib.pyplot as plt\n",
    "import numpy as np\n",
    "# from sklearn.svm import SVR\n",
    "# from sklearn.model_selection import train_test_split\n",
    "# from sklearn.metrics import accuracy_score\n",
    "\n",
    "\n",
    "\n",
    "\n",
    "class Recommendations():\n",
    "\n",
    "        authentication_classes = []\n",
    "        permission_classes = []\n",
    "        file = \"new_sets.csv\"\n",
    "        df = pd.read_csv(file, index_col=0)\n",
    "\n",
    "        df[\"InvoiceDate\"] = pd.to_datetime(df[\"InvoiceDate\"]).dt.date\n",
    "\n",
    "        prod_prof = df\n",
    "        prod_prof[\"TotalAmount\"] = prod_prof[\"Quantity\"]*prod_prof[\"UnitPrice\"]\n",
    "\n",
    "        prod_prof[\"TotalAmount\"].sum() # Anually Sale\n",
    "        monthly_prod = prod_prof[[\"InvoiceDate\",'CustomerID',\"Description\"]]\n",
    "\n",
    "        start_date = \"2010-12-01\" # YYYY-MM-DD\n",
    "        end_date = \"2010-12-02\" # YYYY-MM-DD\n",
    "\n",
    "\n",
    "        def monthly_sale(start_date, end_date, item):\n",
    "            ta = monthly_prod\n",
    "\n",
    "            mask = (ta[\"InvoiceDate\"] > np.datetime64(start_date)) & (ta[\"InvoiceDate\"] <= np.datetime64(end_date))\n",
    "            monthly_ta = ta[mask]\n",
    "            prod_ = monthly_ta[\"Description\"].value_counts().sort_values(ascending=False)\n",
    "            prod = prod_.head(20)\n",
    "            cusID = monthly_ta[\"CustomerID\"].value_counts()\n",
    "\n",
    "            cols = prod_.index\n",
    "            index = cusID.index\n",
    "            cor_item = pd.DataFrame(index=index, columns=cols)\n",
    "            cor_item = cor_item.fillna(0)\n",
    "\n",
    "            for x in monthly_ta[['CustomerID','Description']].dropna().values:\n",
    "                cor_item.loc[x[0]][x[1]] = 1\n",
    "\n",
    "            cor = cor_item.corr()\n",
    "            cor_x = cor[item].sort_values(ascending=False).head(20)\n",
    "\n",
    "            x_cor,y_cor=cor_x.index,cor_x.values\n",
    "            x_sold,y_sold=prod.index, prod.values\n",
    "            return (x_cor,y_cor,x_sold,y_sold) # <------ unhash this to get your requested output for X and Y\n",
    "\n",
    "        x_cor,y_cor,x_sold,y_sold=monthly_sale(start_date, end_date, item=\"HAND WARMER UNION JACK\")  \n",
    "        item = \"FIRE POLISHED GLASS NECKL GOLD\"\n",
    "\n",
    "# data={\n",
    "#         \"Items\":X,\"Correlation\":Y,\n",
    "#     }\n",
    "\n",
    "data={\n",
    "'x_cor':x_cor,'y_cor':y_cor,\n",
    "'x_sold':x_sold,'y_sold':y_sold\n",
    "}\n",
    "\n",
    "return (data)\n"
   ]
  },
  {
   "cell_type": "markdown",
   "metadata": {},
   "source": [
    "#    "
   ]
  },
  {
   "cell_type": "markdown",
   "metadata": {},
   "source": [
    "# Model for Predicting sale"
   ]
  },
  {
   "cell_type": "code",
   "execution_count": null,
   "metadata": {},
   "outputs": [],
   "source": [
    "prod_prof.head()"
   ]
  },
  {
   "cell_type": "markdown",
   "metadata": {},
   "source": [
    "#   "
   ]
  },
  {
   "cell_type": "markdown",
   "metadata": {},
   "source": [
    "#### i clean the datasets here for our models"
   ]
  },
  {
   "cell_type": "code",
   "execution_count": null,
   "metadata": {},
   "outputs": [],
   "source": [
    "from sklearn.svm import SVR\n",
    "from sklearn.model_selection import train_test_split\n",
    "from sklearn.metrics import accuracy_score\n",
    "total_amount.head()"
   ]
  },
  {
   "cell_type": "code",
   "execution_count": null,
   "metadata": {
    "collapsed": true
   },
   "outputs": [],
   "source": [
    "y = total_amount[\"TotalAmount\"][\"sum\"].values\n",
    "X = total_amount[[\"Quantity\",\"UnitPrice\"]].values"
   ]
  },
  {
   "cell_type": "markdown",
   "metadata": {},
   "source": [
    "### I Split the datasets by 30%"
   ]
  },
  {
   "cell_type": "code",
   "execution_count": null,
   "metadata": {
    "collapsed": true
   },
   "outputs": [],
   "source": [
    "train_x, test_x, train_y, test_y = train_test_split(X, y, test_size=0.30, random_state=415)  # i split the datasets here by 30%"
   ]
  },
  {
   "cell_type": "code",
   "execution_count": null,
   "metadata": {
    "collapsed": true
   },
   "outputs": [],
   "source": [
    "'''I am using the SVR Polynomial from the sklearn model, with iteration by 1000 '''\n",
    "svr_lin = SVR(kernel=\"poly\", C=1e-5, degree=1, max_iter=1000)\n",
    "svr_lin.fit(train_x, train_y) # i feed the training sets here to our model\n",
    "yhat = svr_lin.predict(train_x) # and this is the output or a prediction for our training sets\n",
    "div = len(train_y) # dont mind this\n",
    "div_len = len(total_amount) # dont mind this"
   ]
  },
  {
   "cell_type": "code",
   "execution_count": null,
   "metadata": {},
   "outputs": [],
   "source": [
    "'''This is plotting section'''\n",
    "fig, ax = plt.subplots(figsize=(20,8))\n",
    "a = total_amount.index[0:div] # this is the date ex: '2010-10-1, 2010-10-2, 2010-10-3'\n",
    "ax.plot(a, train_y, \"k\", label=\"Train sets\", color=\"green\") # i put on the plot for our expected output, this is the color green\n",
    "ax.plot(a, yhat, \"k--\", label=\"Prediction\", color=\"red\") # here is the plot for prediction, this is color red in our plot\n",
    "ax.legend(loc=\"upper right\", shadow=True, fontsize=20)\n",
    "plt.xticks(rotation=\"vertical\")\n",
    "plt.title(\"Train Prediction\", fontsize=30)\n",
    "plt.xlabel(\"Sales in a Months\", fontsize=20)\n",
    "plt.ylabel(\"Sale in a Month\", fontsize=20)\n",
    "plt.show()"
   ]
  },
  {
   "cell_type": "markdown",
   "metadata": {},
   "source": [
    "#### We can see here the postive outcome of our model, the sets are not overfit, so lets check the prediction below for test "
   ]
  },
  {
   "cell_type": "code",
   "execution_count": null,
   "metadata": {
    "collapsed": true
   },
   "outputs": [],
   "source": [
    "test_yhat = svr_lin.predict(test_x)"
   ]
  },
  {
   "cell_type": "code",
   "execution_count": null,
   "metadata": {},
   "outputs": [],
   "source": [
    "fig, ax = plt.subplots(figsize=(20,8))\n",
    "a = total_amount.index[div:div_len]\n",
    "ax.plot(a, test_y, \"k\", color=\"green\", label=\"Train Test\")\n",
    "ax.plot(a, test_yhat, \"k--\", color=\"red\", label=\"Prediction Test\")\n",
    "ax.legend(loc=\"upper left\", shadow=True, fontsize=20)\n",
    "plt.title(\"Test Prediction\", fontsize=30)\n",
    "plt.xticks(rotation=\"vertical\")\n",
    "plt.xlabel(\"Months Sale\", fontsize=20)\n",
    "plt.ylabel(\"Sale in Month\", fontsize=20)\n",
    "plt.show()"
   ]
  },
  {
   "cell_type": "markdown",
   "metadata": {},
   "source": [
    "#### as we can see in the test sets, our graph for prediction is good, and we have a positive outcome, so we predict the sales by every month and also a year"
   ]
  },
  {
   "cell_type": "markdown",
   "metadata": {},
   "source": [
    "#    "
   ]
  },
  {
   "cell_type": "markdown",
   "metadata": {},
   "source": [
    "#    "
   ]
  },
  {
   "cell_type": "markdown",
   "metadata": {},
   "source": [
    "# Correlation item with other items"
   ]
  },
  {
   "cell_type": "code",
   "execution_count": null,
   "metadata": {},
   "outputs": [],
   "source": [
    "prod_prof.head()"
   ]
  },
  {
   "cell_type": "code",
   "execution_count": null,
   "metadata": {
    "scrolled": true
   },
   "outputs": [],
   "source": [
    "corr = pd.read_csv(\"datasets//correlation.zip\", index_col=0, compression=\"zip\")\n",
    "corr.head()"
   ]
  },
  {
   "cell_type": "markdown",
   "metadata": {},
   "source": [
    "as we can see above, customer ID brough some items"
   ]
  },
  {
   "cell_type": "code",
   "execution_count": null,
   "metadata": {
    "collapsed": true
   },
   "outputs": [],
   "source": [
    "cor_ = corr.corr()"
   ]
  },
  {
   "cell_type": "code",
   "execution_count": null,
   "metadata": {},
   "outputs": [],
   "source": [
    "corr.columns"
   ]
  },
  {
   "cell_type": "code",
   "execution_count": null,
   "metadata": {
    "collapsed": true
   },
   "outputs": [],
   "source": []
  },
  {
   "cell_type": "code",
   "execution_count": null,
   "metadata": {},
   "outputs": [],
   "source": [
    "def corr_items(item):\n",
    "    list_item = cor_[item].sort_values(ascending=False).head(10)\n",
    "    plt.figure(figsize=(12,8))\n",
    "    sns.barplot(list_item.index, list_item.values)\n",
    "    plt.title(\"Correlated Items\", fontsize=30)\n",
    "    plt.xlabel(\"Items\", fontsize=20)\n",
    "    plt.ylabel(\"Percentage of correlate\", fontsize=20)\n",
    "    plt.xticks(rotation=\"vertical\")\n",
    "    plt.show()\n",
    "    return\n",
    "\n",
    "item = \"FIRE POLISHED GLASS NECKL GOLD\"\n",
    "corr_items(item)"
   ]
  },
  {
   "cell_type": "markdown",
   "metadata": {
    "collapsed": true
   },
   "source": [
    "As per the graph above, if we it can give the correlation items"
   ]
  },
  {
   "cell_type": "markdown",
   "metadata": {
    "collapsed": true
   },
   "source": [
    "# Model Prediction"
   ]
  },
  {
   "cell_type": "code",
   "execution_count": null,
   "metadata": {},
   "outputs": [],
   "source": [
    "new_df = pd.DataFrame(df, copy=True)\n",
    "new_df.head()"
   ]
  },
  {
   "cell_type": "code",
   "execution_count": null,
   "metadata": {},
   "outputs": [],
   "source": [
    "qty_pred = new_df.groupby(\"InvoiceDate\").agg({\"Quantity\":['sum'],\"TotalAmount\":[\"sum\"]}).reset_index()\n",
    "qty_pred[\"InvoiceDate\"] = [i.day for i in qty_pred[\"InvoiceDate\"].values]\n",
    "qty_pred.head()"
   ]
  },
  {
   "cell_type": "code",
   "execution_count": null,
   "metadata": {},
   "outputs": [],
   "source": [
    "qty_pred[qty_pred[\"InvoiceDate\"] == 1][\"Quantity\",\"sum\"] "
   ]
  },
  {
   "cell_type": "code",
   "execution_count": null,
   "metadata": {},
   "outputs": [],
   "source": [
    "days = np.arange(1,32,1)\n",
    "days"
   ]
  },
  {
   "cell_type": "code",
   "execution_count": null,
   "metadata": {},
   "outputs": [],
   "source": [
    "qty_pred[qty_pred[\"InvoiceDate\"] == 1].mean()"
   ]
  },
  {
   "cell_type": "code",
   "execution_count": null,
   "metadata": {},
   "outputs": [],
   "source": [
    "qty_mean = pd.DataFrame(days, columns=[\"days\"])\n",
    "qty_mean.head()\n",
    "    "
   ]
  },
  {
   "cell_type": "code",
   "execution_count": null,
   "metadata": {
    "collapsed": true
   },
   "outputs": [],
   "source": [
    "qty = []\n",
    "qty_sum = []\n",
    "ta = []\n",
    "ta_sum = []\n",
    "\n",
    "for i in days:\n",
    "    qty.append(qty_pred[qty_pred[\"InvoiceDate\"] == i].mean()[\"Quantity\"][\"sum\"])\n",
    "    qty_sum.append(qty_pred[qty_pred[\"InvoiceDate\"] == i].sum()[\"Quantity\"][\"sum\"])\n",
    "    ta.append(qty_pred[qty_pred[\"InvoiceDate\"] == i].mean()[\"TotalAmount\"][\"sum\"])\n",
    "    ta_sum.append(qty_pred[qty_pred[\"InvoiceDate\"] == i].sum()[\"TotalAmount\"][\"sum\"])\n",
    "qty_mean[\"Qty Mean\"] = qty\n",
    "qty_mean[\"Qty Sum\"] = qty_sum\n",
    "qty_mean[\"TA Mean\"] = ta\n",
    "qty_mean[\"TA Sum\"] = ta_sum"
   ]
  },
  {
   "cell_type": "code",
   "execution_count": null,
   "metadata": {},
   "outputs": [],
   "source": [
    "qty_mean.head()"
   ]
  },
  {
   "cell_type": "code",
   "execution_count": null,
   "metadata": {},
   "outputs": [],
   "source": [
    "total_amount.head()"
   ]
  },
  {
   "cell_type": "code",
   "execution_count": null,
   "metadata": {
    "collapsed": true
   },
   "outputs": [],
   "source": [
    "y_1 = total_amount[\"TotalAmount\"][\"sum\"]"
   ]
  },
  {
   "cell_type": "code",
   "execution_count": null,
   "metadata": {},
   "outputs": [],
   "source": [
    "total_amount[\"TotalAmount\"][\"sum\"].plot()\n",
    "plt.show()"
   ]
  },
  {
   "cell_type": "code",
   "execution_count": null,
   "metadata": {},
   "outputs": [],
   "source": [
    "y_1"
   ]
  },
  {
   "cell_type": "code",
   "execution_count": null,
   "metadata": {},
   "outputs": [],
   "source": [
    "qty_mean[\"TA Sum\"].pop(0)"
   ]
  },
  {
   "cell_type": "code",
   "execution_count": null,
   "metadata": {},
   "outputs": [],
   "source": []
  },
  {
   "cell_type": "code",
   "execution_count": null,
   "metadata": {
    "collapsed": true
   },
   "outputs": [],
   "source": []
  }
 ],
 "metadata": {
  "kernelspec": {
   "display_name": "Python 3",
   "language": "python",
   "name": "python3"
  },
  "language_info": {
   "codemirror_mode": {
    "name": "ipython",
    "version": 3
   },
   "file_extension": ".py",
   "mimetype": "text/x-python",
   "name": "python",
   "nbconvert_exporter": "python",
   "pygments_lexer": "ipython3",
   "version": "3.6.3"
  }
 },
 "nbformat": 4,
 "nbformat_minor": 2
}
