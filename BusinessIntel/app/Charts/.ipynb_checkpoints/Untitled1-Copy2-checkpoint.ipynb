{
 "cells": [
  {
   "cell_type": "code",
   "execution_count": 1,
   "metadata": {
    "collapsed": true
   },
   "outputs": [],
   "source": [
    "import pandas as pd\n",
    "import seaborn as sns\n",
    "import matplotlib.pyplot as plt\n",
    "import numpy as np"
   ]
  },
  {
   "cell_type": "code",
   "execution_count": 2,
   "metadata": {
    "collapsed": true
   },
   "outputs": [],
   "source": [
    "file = \"new_sets.csv\"\n",
    "df = pd.read_csv(file, index_col=0, )"
   ]
  },
  {
   "cell_type": "markdown",
   "metadata": {},
   "source": [
    "I clean the datasets here"
   ]
  },
  {
   "cell_type": "code",
   "execution_count": null,
   "metadata": {},
   "outputs": [],
   "source": [
    "desc = df[\"Description\"].value_counts()\n",
    "df[\"InvoiceDate\"] = pd.to_datetime(df[\"InvoiceDate\"]).dt.date\n",
    "df.head()"
   ]
  },
  {
   "cell_type": "markdown",
   "metadata": {},
   "source": [
    "# Product should be kept"
   ]
  },
  {
   "cell_type": "markdown",
   "metadata": {},
   "source": [
    "##### We can see here in the bar Chart the items need to be kept and order more quantity and we can answer the question what product most profitable and product to be kept"
   ]
  },
  {
   "cell_type": "code",
   "execution_count": null,
   "metadata": {},
   "outputs": [],
   "source": [
    "plt.figure(figsize=(12,8))\n",
    "sns.barplot(desc.head(40).index, desc.head(40).values)\n",
    "plt.xticks(rotation=\"vertical\")\n",
    "plt.title(\"Most Item sold from 2010-2011\", fontsize=20)\n",
    "plt.xlabel(\"Item Description\", fontsize=15)\n",
    "plt.ylabel(\"Item Quantity\")\n",
    "plt.show()"
   ]
  },
  {
   "cell_type": "markdown",
   "metadata": {},
   "source": [
    "# Items sold within a Year"
   ]
  },
  {
   "cell_type": "code",
   "execution_count": null,
   "metadata": {},
   "outputs": [],
   "source": [
    "inv_data = df[\"InvoiceDate\"].value_counts().sort_index()\n",
    "inv_data.head()"
   ]
  },
  {
   "cell_type": "markdown",
   "metadata": {},
   "source": [
    "#### Here at the new chart, we can see the summary items most purchased by  months."
   ]
  },
  {
   "cell_type": "code",
   "execution_count": null,
   "metadata": {},
   "outputs": [],
   "source": [
    "plt.figure(figsize=(12,8))\n",
    "inv_data.plot(color=\"red\")\n",
    "plt.xticks(rotation=\"vertical\", fontsize=15)\n",
    "plt.title(\"Summary for item Sold in a Year\", fontsize=20)\n",
    "plt.xlabel(\"Months\", fontsize=15)\n",
    "plt.ylabel(\"Item Release Quantity\", fontsize=15)\n",
    "plt.show()"
   ]
  },
  {
   "cell_type": "markdown",
   "metadata": {},
   "source": [
    "# Customer who buy more often"
   ]
  },
  {
   "cell_type": "markdown",
   "metadata": {},
   "source": [
    "#### Here we can see at the chart below the customer who purchased more using by their Customer ID"
   ]
  },
  {
   "cell_type": "code",
   "execution_count": null,
   "metadata": {},
   "outputs": [],
   "source": [
    "custID = df[\"CustomerID\"].value_counts().reset_index()\n",
    "custID.columns = [\"CustID\",\"Items they buyed\"]\n",
    "custID[\"CustID\"] = custID[\"CustID\"].apply(str)\n",
    "custIDx = custID.sort_values(\"Items they buyed\", ascending=False).head(40)\n",
    "custIDx.head()"
   ]
  },
  {
   "cell_type": "markdown",
   "metadata": {},
   "source": [
    "#   "
   ]
  },
  {
   "cell_type": "code",
   "execution_count": null,
   "metadata": {},
   "outputs": [],
   "source": [
    "plt.figure(figsize=(12,8))\n",
    "g = sns.barplot(custIDx.index, custIDx[\"Items they buyed\"])\n",
    "g.set_xticklabels(custIDx[\"CustID\"], rotation=\"vertical\")\n",
    "plt.title(\"Customer who buy more often\", fontsize=20)\n",
    "plt.xlabel(\"Customer ID\", fontsize=15)\n",
    "plt.ylabel(\"Item Frequency\", fontsize=15)\n",
    "plt.show()"
   ]
  },
  {
   "cell_type": "markdown",
   "metadata": {},
   "source": [
    "##another part"
   ]
  },
  {
   "cell_type": "markdown",
   "metadata": {},
   "source": [
    "#  "
   ]
  },
  {
   "cell_type": "markdown",
   "metadata": {},
   "source": [
    "##### I Add the Total Amount for the item they purchased \"Quantity\" x \"Unit Price\" = \"Total Amount\", so I can graph the total amount they purchased per Customer"
   ]
  },
  {
   "cell_type": "code",
   "execution_count": 3,
   "metadata": {},
   "outputs": [
    {
     "data": {
      "text/html": [
       "<div>\n",
       "<style scoped>\n",
       "    .dataframe tbody tr th:only-of-type {\n",
       "        vertical-align: middle;\n",
       "    }\n",
       "\n",
       "    .dataframe tbody tr th {\n",
       "        vertical-align: top;\n",
       "    }\n",
       "\n",
       "    .dataframe thead th {\n",
       "        text-align: right;\n",
       "    }\n",
       "</style>\n",
       "<table border=\"1\" class=\"dataframe\">\n",
       "  <thead>\n",
       "    <tr style=\"text-align: right;\">\n",
       "      <th></th>\n",
       "      <th>InvoiceNo</th>\n",
       "      <th>InvoiceDate</th>\n",
       "      <th>CustomerID</th>\n",
       "      <th>Description</th>\n",
       "      <th>Quantity</th>\n",
       "      <th>UnitPrice</th>\n",
       "      <th>BroughtPrice</th>\n",
       "      <th>Profit</th>\n",
       "      <th>Logged OS</th>\n",
       "      <th>TotalAmount</th>\n",
       "    </tr>\n",
       "  </thead>\n",
       "  <tbody>\n",
       "    <tr>\n",
       "      <th>0</th>\n",
       "      <td>536365</td>\n",
       "      <td>2010-12-01 08:26:00</td>\n",
       "      <td>17850.0</td>\n",
       "      <td>WHITE HANGING HEART T-LIGHT HOLDER</td>\n",
       "      <td>6</td>\n",
       "      <td>2.55</td>\n",
       "      <td>2.040</td>\n",
       "      <td>0.510</td>\n",
       "      <td>BlackBerry</td>\n",
       "      <td>15.30</td>\n",
       "    </tr>\n",
       "    <tr>\n",
       "      <th>1</th>\n",
       "      <td>536365</td>\n",
       "      <td>2010-12-01 08:26:00</td>\n",
       "      <td>17850.0</td>\n",
       "      <td>WHITE METAL LANTERN</td>\n",
       "      <td>6</td>\n",
       "      <td>3.39</td>\n",
       "      <td>2.712</td>\n",
       "      <td>0.678</td>\n",
       "      <td>IOS</td>\n",
       "      <td>20.34</td>\n",
       "    </tr>\n",
       "    <tr>\n",
       "      <th>2</th>\n",
       "      <td>536365</td>\n",
       "      <td>2010-12-01 08:26:00</td>\n",
       "      <td>17850.0</td>\n",
       "      <td>CREAM CUPID HEARTS COAT HANGER</td>\n",
       "      <td>8</td>\n",
       "      <td>2.75</td>\n",
       "      <td>2.200</td>\n",
       "      <td>0.550</td>\n",
       "      <td>IOS</td>\n",
       "      <td>22.00</td>\n",
       "    </tr>\n",
       "    <tr>\n",
       "      <th>3</th>\n",
       "      <td>536365</td>\n",
       "      <td>2010-12-01 08:26:00</td>\n",
       "      <td>17850.0</td>\n",
       "      <td>KNITTED UNION FLAG HOT WATER BOTTLE</td>\n",
       "      <td>6</td>\n",
       "      <td>3.39</td>\n",
       "      <td>2.712</td>\n",
       "      <td>0.678</td>\n",
       "      <td>Symbian</td>\n",
       "      <td>20.34</td>\n",
       "    </tr>\n",
       "    <tr>\n",
       "      <th>4</th>\n",
       "      <td>536365</td>\n",
       "      <td>2010-12-01 08:26:00</td>\n",
       "      <td>17850.0</td>\n",
       "      <td>RED WOOLLY HOTTIE WHITE HEART.</td>\n",
       "      <td>6</td>\n",
       "      <td>3.39</td>\n",
       "      <td>2.712</td>\n",
       "      <td>0.678</td>\n",
       "      <td>IOS</td>\n",
       "      <td>20.34</td>\n",
       "    </tr>\n",
       "  </tbody>\n",
       "</table>\n",
       "</div>"
      ],
      "text/plain": [
       "  InvoiceNo          InvoiceDate  CustomerID  \\\n",
       "0    536365  2010-12-01 08:26:00     17850.0   \n",
       "1    536365  2010-12-01 08:26:00     17850.0   \n",
       "2    536365  2010-12-01 08:26:00     17850.0   \n",
       "3    536365  2010-12-01 08:26:00     17850.0   \n",
       "4    536365  2010-12-01 08:26:00     17850.0   \n",
       "\n",
       "                           Description  Quantity  UnitPrice  BroughtPrice  \\\n",
       "0   WHITE HANGING HEART T-LIGHT HOLDER         6       2.55         2.040   \n",
       "1                  WHITE METAL LANTERN         6       3.39         2.712   \n",
       "2       CREAM CUPID HEARTS COAT HANGER         8       2.75         2.200   \n",
       "3  KNITTED UNION FLAG HOT WATER BOTTLE         6       3.39         2.712   \n",
       "4       RED WOOLLY HOTTIE WHITE HEART.         6       3.39         2.712   \n",
       "\n",
       "   Profit   Logged OS  TotalAmount  \n",
       "0   0.510  BlackBerry        15.30  \n",
       "1   0.678         IOS        20.34  \n",
       "2   0.550         IOS        22.00  \n",
       "3   0.678     Symbian        20.34  \n",
       "4   0.678         IOS        20.34  "
      ]
     },
     "execution_count": 3,
     "metadata": {},
     "output_type": "execute_result"
    }
   ],
   "source": [
    "prod_prof = df\n",
    "prod_prof[\"TotalAmount\"] = prod_prof[\"Quantity\"]*prod_prof[\"UnitPrice\"]\n",
    "prod_prof.head()"
   ]
  },
  {
   "cell_type": "code",
   "execution_count": null,
   "metadata": {},
   "outputs": [],
   "source": [
    "prod_prof[\"TotalAmount\"].sum() # Anually Sale"
   ]
  },
  {
   "cell_type": "code",
   "execution_count": 4,
   "metadata": {},
   "outputs": [
    {
     "data": {
      "text/html": [
       "<div>\n",
       "<style scoped>\n",
       "    .dataframe tbody tr th:only-of-type {\n",
       "        vertical-align: middle;\n",
       "    }\n",
       "\n",
       "    .dataframe tbody tr th {\n",
       "        vertical-align: top;\n",
       "    }\n",
       "\n",
       "    .dataframe thead tr th {\n",
       "        text-align: left;\n",
       "    }\n",
       "\n",
       "    .dataframe thead tr:last-of-type th {\n",
       "        text-align: right;\n",
       "    }\n",
       "</style>\n",
       "<table border=\"1\" class=\"dataframe\">\n",
       "  <thead>\n",
       "    <tr>\n",
       "      <th></th>\n",
       "      <th colspan=\"6\" halign=\"left\">TotalAmount</th>\n",
       "      <th colspan=\"6\" halign=\"left\">Quantity</th>\n",
       "    </tr>\n",
       "    <tr>\n",
       "      <th></th>\n",
       "      <th colspan=\"2\" halign=\"left\">TotalAmount</th>\n",
       "      <th colspan=\"2\" halign=\"left\">Quantity</th>\n",
       "      <th colspan=\"2\" halign=\"left\">InvoiceDate</th>\n",
       "      <th colspan=\"2\" halign=\"left\">TotalAmount</th>\n",
       "      <th colspan=\"2\" halign=\"left\">Quantity</th>\n",
       "      <th colspan=\"2\" halign=\"left\">InvoiceDate</th>\n",
       "    </tr>\n",
       "    <tr>\n",
       "      <th></th>\n",
       "      <th>sum</th>\n",
       "      <th>count</th>\n",
       "      <th>sum</th>\n",
       "      <th>count</th>\n",
       "      <th>sum</th>\n",
       "      <th>count</th>\n",
       "      <th>sum</th>\n",
       "      <th>count</th>\n",
       "      <th>sum</th>\n",
       "      <th>count</th>\n",
       "      <th>sum</th>\n",
       "      <th>count</th>\n",
       "    </tr>\n",
       "    <tr>\n",
       "      <th>Description</th>\n",
       "      <th></th>\n",
       "      <th></th>\n",
       "      <th></th>\n",
       "      <th></th>\n",
       "      <th></th>\n",
       "      <th></th>\n",
       "      <th></th>\n",
       "      <th></th>\n",
       "      <th></th>\n",
       "      <th></th>\n",
       "      <th></th>\n",
       "      <th></th>\n",
       "    </tr>\n",
       "  </thead>\n",
       "  <tbody>\n",
       "    <tr>\n",
       "      <th>4 PURPLE FLOCK DINNER CANDLES</th>\n",
       "      <td>290.80</td>\n",
       "      <td>41</td>\n",
       "      <td>144</td>\n",
       "      <td>41</td>\n",
       "      <td>2010-12-01 12:49:002010-12-05 10:52:002010-12-...</td>\n",
       "      <td>41</td>\n",
       "      <td>290.80</td>\n",
       "      <td>41</td>\n",
       "      <td>144</td>\n",
       "      <td>41</td>\n",
       "      <td>2010-12-01 12:49:002010-12-05 10:52:002010-12-...</td>\n",
       "      <td>41</td>\n",
       "    </tr>\n",
       "    <tr>\n",
       "      <th>50'S CHRISTMAS GIFT BAG LARGE</th>\n",
       "      <td>2341.13</td>\n",
       "      <td>130</td>\n",
       "      <td>1913</td>\n",
       "      <td>130</td>\n",
       "      <td>2011-08-22 15:05:002011-08-30 12:49:002011-08-...</td>\n",
       "      <td>130</td>\n",
       "      <td>2341.13</td>\n",
       "      <td>130</td>\n",
       "      <td>1913</td>\n",
       "      <td>130</td>\n",
       "      <td>2011-08-22 15:05:002011-08-30 12:49:002011-08-...</td>\n",
       "      <td>130</td>\n",
       "    </tr>\n",
       "    <tr>\n",
       "      <th>DOLLY GIRL BEAKER</th>\n",
       "      <td>2882.50</td>\n",
       "      <td>181</td>\n",
       "      <td>2448</td>\n",
       "      <td>181</td>\n",
       "      <td>2011-07-24 16:13:002011-07-24 16:15:002011-07-...</td>\n",
       "      <td>181</td>\n",
       "      <td>2882.50</td>\n",
       "      <td>181</td>\n",
       "      <td>2448</td>\n",
       "      <td>181</td>\n",
       "      <td>2011-07-24 16:13:002011-07-24 16:15:002011-07-...</td>\n",
       "      <td>181</td>\n",
       "    </tr>\n",
       "    <tr>\n",
       "      <th>I LOVE LONDON MINI BACKPACK</th>\n",
       "      <td>1628.17</td>\n",
       "      <td>88</td>\n",
       "      <td>389</td>\n",
       "      <td>88</td>\n",
       "      <td>2011-09-11 11:29:002011-09-11 13:39:002011-09-...</td>\n",
       "      <td>88</td>\n",
       "      <td>1628.17</td>\n",
       "      <td>88</td>\n",
       "      <td>389</td>\n",
       "      <td>88</td>\n",
       "      <td>2011-09-11 11:29:002011-09-11 13:39:002011-09-...</td>\n",
       "      <td>88</td>\n",
       "    </tr>\n",
       "    <tr>\n",
       "      <th>I LOVE LONDON MINI RUCKSACK</th>\n",
       "      <td>4.15</td>\n",
       "      <td>1</td>\n",
       "      <td>1</td>\n",
       "      <td>1</td>\n",
       "      <td>2011-10-06 09:11:00</td>\n",
       "      <td>1</td>\n",
       "      <td>4.15</td>\n",
       "      <td>1</td>\n",
       "      <td>1</td>\n",
       "      <td>1</td>\n",
       "      <td>2011-10-06 09:11:00</td>\n",
       "      <td>1</td>\n",
       "    </tr>\n",
       "  </tbody>\n",
       "</table>\n",
       "</div>"
      ],
      "text/plain": [
       "                               TotalAmount                       \\\n",
       "                               TotalAmount       Quantity         \n",
       "                                       sum count      sum count   \n",
       "Description                                                       \n",
       " 4 PURPLE FLOCK DINNER CANDLES      290.80    41      144    41   \n",
       " 50'S CHRISTMAS GIFT BAG LARGE     2341.13   130     1913   130   \n",
       " DOLLY GIRL BEAKER                 2882.50   181     2448   181   \n",
       " I LOVE LONDON MINI BACKPACK       1628.17    88      389    88   \n",
       " I LOVE LONDON MINI RUCKSACK          4.15     1        1     1   \n",
       "\n",
       "                                                                                   \\\n",
       "                                                                      InvoiceDate   \n",
       "                                                                              sum   \n",
       "Description                                                                         \n",
       " 4 PURPLE FLOCK DINNER CANDLES  2010-12-01 12:49:002010-12-05 10:52:002010-12-...   \n",
       " 50'S CHRISTMAS GIFT BAG LARGE  2011-08-22 15:05:002011-08-30 12:49:002011-08-...   \n",
       " DOLLY GIRL BEAKER              2011-07-24 16:13:002011-07-24 16:15:002011-07-...   \n",
       " I LOVE LONDON MINI BACKPACK    2011-09-11 11:29:002011-09-11 13:39:002011-09-...   \n",
       " I LOVE LONDON MINI RUCKSACK                                  2011-10-06 09:11:00   \n",
       "\n",
       "                                        Quantity                       \\\n",
       "                                     TotalAmount       Quantity         \n",
       "                               count         sum count      sum count   \n",
       "Description                                                             \n",
       " 4 PURPLE FLOCK DINNER CANDLES    41      290.80    41      144    41   \n",
       " 50'S CHRISTMAS GIFT BAG LARGE   130     2341.13   130     1913   130   \n",
       " DOLLY GIRL BEAKER               181     2882.50   181     2448   181   \n",
       " I LOVE LONDON MINI BACKPACK      88     1628.17    88      389    88   \n",
       " I LOVE LONDON MINI RUCKSACK       1        4.15     1        1     1   \n",
       "\n",
       "                                                                                   \\\n",
       "                                                                      InvoiceDate   \n",
       "                                                                              sum   \n",
       "Description                                                                         \n",
       " 4 PURPLE FLOCK DINNER CANDLES  2010-12-01 12:49:002010-12-05 10:52:002010-12-...   \n",
       " 50'S CHRISTMAS GIFT BAG LARGE  2011-08-22 15:05:002011-08-30 12:49:002011-08-...   \n",
       " DOLLY GIRL BEAKER              2011-07-24 16:13:002011-07-24 16:15:002011-07-...   \n",
       " I LOVE LONDON MINI BACKPACK    2011-09-11 11:29:002011-09-11 13:39:002011-09-...   \n",
       " I LOVE LONDON MINI RUCKSACK                                  2011-10-06 09:11:00   \n",
       "\n",
       "                                      \n",
       "                                      \n",
       "                               count  \n",
       "Description                           \n",
       " 4 PURPLE FLOCK DINNER CANDLES    41  \n",
       " 50'S CHRISTMAS GIFT BAG LARGE   130  \n",
       " DOLLY GIRL BEAKER               181  \n",
       " I LOVE LONDON MINI BACKPACK      88  \n",
       " I LOVE LONDON MINI RUCKSACK       1  "
      ]
     },
     "execution_count": 4,
     "metadata": {},
     "output_type": "execute_result"
    }
   ],
   "source": [
    "total_amount = prod_prof.groupby(\"Description\")[\"TotalAmount\",\"Quantity\",\"InvoiceDate\"].agg({\"TotalAmount\":[\"sum\",\"count\"],\n",
    "                                                                   \"Quantity\":[\"sum\",\"count\"],\n",
    "                                                                   })\n",
    "total_amount.head()"
   ]
  },
  {
   "cell_type": "markdown",
   "metadata": {},
   "source": [
    "#   "
   ]
  },
  {
   "cell_type": "markdown",
   "metadata": {},
   "source": [
    "### We can put this as a  special occasions  products will be sold more "
   ]
  },
  {
   "cell_type": "code",
   "execution_count": 5,
   "metadata": {
    "collapsed": true,
    "scrolled": false
   },
   "outputs": [],
   "source": [
    "start_date = \"2011-01-01\" # YYYY-MM-DD\n",
    "end_date = \"2011-02-20\" # YYYY-MM-DD"
   ]
  },
  {
   "cell_type": "code",
   "execution_count": 6,
   "metadata": {
    "scrolled": false
   },
   "outputs": [
    {
     "ename": "TypeError",
     "evalue": "'<' not supported between instances of 'numpy.ndarray' and 'str'",
     "output_type": "error",
     "traceback": [
      "\u001b[0;31m---------------------------------------------------------------------------\u001b[0m",
      "\u001b[0;31mTypeError\u001b[0m                                 Traceback (most recent call last)",
      "\u001b[0;32m<ipython-input-6-9d7040a073d0>\u001b[0m in \u001b[0;36m<module>\u001b[0;34m()\u001b[0m\n\u001b[1;32m     13\u001b[0m     \u001b[0;32mreturn\u001b[0m \u001b[0mout\u001b[0m\u001b[0;34m\u001b[0m\u001b[0m\n\u001b[1;32m     14\u001b[0m \u001b[0;34m\u001b[0m\u001b[0m\n\u001b[0;32m---> 15\u001b[0;31m \u001b[0mmonthly_sale\u001b[0m\u001b[0;34m(\u001b[0m\u001b[0mstart_date\u001b[0m\u001b[0;34m,\u001b[0m \u001b[0mend_date\u001b[0m\u001b[0;34m)\u001b[0m\u001b[0;34m\u001b[0m\u001b[0m\n\u001b[0m",
      "\u001b[0;32m<ipython-input-6-9d7040a073d0>\u001b[0m in \u001b[0;36mmonthly_sale\u001b[0;34m(start_date, end_date)\u001b[0m\n\u001b[1;32m      1\u001b[0m \u001b[0;32mdef\u001b[0m \u001b[0mmonthly_sale\u001b[0m\u001b[0;34m(\u001b[0m\u001b[0mstart_date\u001b[0m\u001b[0;34m,\u001b[0m \u001b[0mend_date\u001b[0m\u001b[0;34m)\u001b[0m\u001b[0;34m:\u001b[0m\u001b[0;34m\u001b[0m\u001b[0m\n\u001b[1;32m      2\u001b[0m     \u001b[0mta\u001b[0m \u001b[0;34m=\u001b[0m \u001b[0mtotal_amount\u001b[0m\u001b[0;34m\u001b[0m\u001b[0m\n\u001b[0;32m----> 3\u001b[0;31m     \u001b[0mmask\u001b[0m \u001b[0;34m=\u001b[0m \u001b[0;34m(\u001b[0m\u001b[0mta\u001b[0m\u001b[0;34m.\u001b[0m\u001b[0mindex\u001b[0m \u001b[0;34m>\u001b[0m \u001b[0mnp\u001b[0m\u001b[0;34m.\u001b[0m\u001b[0mdatetime64\u001b[0m\u001b[0;34m(\u001b[0m\u001b[0mstart_date\u001b[0m\u001b[0;34m)\u001b[0m\u001b[0;34m)\u001b[0m \u001b[0;34m&\u001b[0m \u001b[0;34m(\u001b[0m\u001b[0mta\u001b[0m\u001b[0;34m.\u001b[0m\u001b[0mindex\u001b[0m \u001b[0;34m<=\u001b[0m \u001b[0mnp\u001b[0m\u001b[0;34m.\u001b[0m\u001b[0mdatetime64\u001b[0m\u001b[0;34m(\u001b[0m\u001b[0mend_date\u001b[0m\u001b[0;34m)\u001b[0m\u001b[0;34m)\u001b[0m\u001b[0;34m\u001b[0m\u001b[0m\n\u001b[0m\u001b[1;32m      4\u001b[0m \u001b[0;34m\u001b[0m\u001b[0m\n\u001b[1;32m      5\u001b[0m     \u001b[0mplt\u001b[0m\u001b[0;34m.\u001b[0m\u001b[0mfigure\u001b[0m\u001b[0;34m(\u001b[0m\u001b[0mfigsize\u001b[0m\u001b[0;34m=\u001b[0m\u001b[0;34m(\u001b[0m\u001b[0;36m12\u001b[0m\u001b[0;34m,\u001b[0m\u001b[0;36m8\u001b[0m\u001b[0;34m)\u001b[0m\u001b[0;34m)\u001b[0m\u001b[0;34m\u001b[0m\u001b[0m\n",
      "\u001b[0;32m~/.local/lib/python3.6/site-packages/pandas/core/indexes/base.py\u001b[0m in \u001b[0;36m_evaluate_compare\u001b[0;34m(self, other)\u001b[0m\n\u001b[1;32m   3838\u001b[0m                     \u001b[0;32mwith\u001b[0m \u001b[0mnp\u001b[0m\u001b[0;34m.\u001b[0m\u001b[0merrstate\u001b[0m\u001b[0;34m(\u001b[0m\u001b[0mall\u001b[0m\u001b[0;34m=\u001b[0m\u001b[0;34m'ignore'\u001b[0m\u001b[0;34m)\u001b[0m\u001b[0;34m:\u001b[0m\u001b[0;34m\u001b[0m\u001b[0m\n\u001b[1;32m   3839\u001b[0m                         result = _comp_method_OBJECT_ARRAY(\n\u001b[0;32m-> 3840\u001b[0;31m                             op, self.values, other)\n\u001b[0m\u001b[1;32m   3841\u001b[0m                 \u001b[0;32melse\u001b[0m\u001b[0;34m:\u001b[0m\u001b[0;34m\u001b[0m\u001b[0m\n\u001b[1;32m   3842\u001b[0m                     \u001b[0;32mwith\u001b[0m \u001b[0mnp\u001b[0m\u001b[0;34m.\u001b[0m\u001b[0merrstate\u001b[0m\u001b[0;34m(\u001b[0m\u001b[0mall\u001b[0m\u001b[0;34m=\u001b[0m\u001b[0;34m'ignore'\u001b[0m\u001b[0;34m)\u001b[0m\u001b[0;34m:\u001b[0m\u001b[0;34m\u001b[0m\u001b[0m\n",
      "\u001b[0;32m~/.local/lib/python3.6/site-packages/pandas/core/ops.py\u001b[0m in \u001b[0;36m_comp_method_OBJECT_ARRAY\u001b[0;34m(op, x, y)\u001b[0m\n\u001b[1;32m    761\u001b[0m         \u001b[0mresult\u001b[0m \u001b[0;34m=\u001b[0m \u001b[0mlib\u001b[0m\u001b[0;34m.\u001b[0m\u001b[0mvec_compare\u001b[0m\u001b[0;34m(\u001b[0m\u001b[0mx\u001b[0m\u001b[0;34m,\u001b[0m \u001b[0my\u001b[0m\u001b[0;34m,\u001b[0m \u001b[0mop\u001b[0m\u001b[0;34m)\u001b[0m\u001b[0;34m\u001b[0m\u001b[0m\n\u001b[1;32m    762\u001b[0m     \u001b[0;32melse\u001b[0m\u001b[0;34m:\u001b[0m\u001b[0;34m\u001b[0m\u001b[0m\n\u001b[0;32m--> 763\u001b[0;31m         \u001b[0mresult\u001b[0m \u001b[0;34m=\u001b[0m \u001b[0mlib\u001b[0m\u001b[0;34m.\u001b[0m\u001b[0mscalar_compare\u001b[0m\u001b[0;34m(\u001b[0m\u001b[0mx\u001b[0m\u001b[0;34m,\u001b[0m \u001b[0my\u001b[0m\u001b[0;34m,\u001b[0m \u001b[0mop\u001b[0m\u001b[0;34m)\u001b[0m\u001b[0;34m\u001b[0m\u001b[0m\n\u001b[0m\u001b[1;32m    764\u001b[0m     \u001b[0;32mreturn\u001b[0m \u001b[0mresult\u001b[0m\u001b[0;34m\u001b[0m\u001b[0m\n\u001b[1;32m    765\u001b[0m \u001b[0;34m\u001b[0m\u001b[0m\n",
      "\u001b[0;32mpandas/_libs/lib.pyx\u001b[0m in \u001b[0;36mpandas._libs.lib.scalar_compare\u001b[0;34m()\u001b[0m\n",
      "\u001b[0;31mTypeError\u001b[0m: '<' not supported between instances of 'numpy.ndarray' and 'str'"
     ]
    }
   ],
   "source": [
    "def monthly_sale(start_date, end_date):\n",
    "    ta = total_amount\n",
    "    mask = (ta.index > np.datetime64(start_date)) & (ta.index <= np.datetime64(end_date))\n",
    "    \n",
    "    plt.figure(figsize=(12,8))\n",
    "    #ta[mask][\"TotalAmount\"][\"sum\"].plot()\n",
    "    ta[mask][\"TotalAmount\"][\"sum\"].plot()\n",
    "    plt.xlabel(\"Lenght of Days\", fontsize=20)\n",
    "    plt.ylabel(\"Total Sale\", fontsize=20)\n",
    "    plt.title(\"Summary for Selected Date\", fontsize=30)\n",
    "    plt.xticks(rotation=\"vertical\")\n",
    "    plt.show()\n",
    "    return ta\n",
    "\n",
    "monthly_sale(start_date, end_date)    "
   ]
  },
  {
   "cell_type": "markdown",
   "metadata": {},
   "source": [
    "#    "
   ]
  },
  {
   "cell_type": "markdown",
   "metadata": {},
   "source": [
    "# Model for Predicting sale"
   ]
  },
  {
   "cell_type": "code",
   "execution_count": null,
   "metadata": {},
   "outputs": [],
   "source": [
    "prod_prof.head()"
   ]
  },
  {
   "cell_type": "markdown",
   "metadata": {},
   "source": [
    "#   "
   ]
  },
  {
   "cell_type": "markdown",
   "metadata": {},
   "source": [
    "#### i clean the datasets here for our models"
   ]
  },
  {
   "cell_type": "code",
   "execution_count": null,
   "metadata": {},
   "outputs": [],
   "source": [
    "from sklearn.svm import SVR\n",
    "from sklearn.model_selection import train_test_split\n",
    "from sklearn.metrics import accuracy_score\n",
    "total_amount.head()"
   ]
  },
  {
   "cell_type": "code",
   "execution_count": null,
   "metadata": {
    "collapsed": true
   },
   "outputs": [],
   "source": [
    "y = total_amount[\"TotalAmount\"][\"sum\"].values\n",
    "X = total_amount[[\"Quantity\",\"UnitPrice\"]].values"
   ]
  },
  {
   "cell_type": "markdown",
   "metadata": {},
   "source": [
    "### I Split the datasets by 30%"
   ]
  },
  {
   "cell_type": "code",
   "execution_count": null,
   "metadata": {
    "collapsed": true
   },
   "outputs": [],
   "source": [
    "train_x, test_x, train_y, test_y = train_test_split(X, y, test_size=0.30, random_state=415)  # i split the datasets here by 30%"
   ]
  },
  {
   "cell_type": "code",
   "execution_count": null,
   "metadata": {
    "collapsed": true
   },
   "outputs": [],
   "source": [
    "'''I am using the SVR Polynomial from the sklearn model, with iteration by 1000 '''\n",
    "svr_lin = SVR(kernel=\"poly\", C=1e-5, degree=1, max_iter=1000)\n",
    "svr_lin.fit(train_x, train_y) # i feed the training sets here to our model\n",
    "yhat = svr_lin.predict(train_x) # and this is the output or a prediction for our training sets\n",
    "div = len(train_y) # dont mind this\n",
    "div_len = len(total_amount) # dont mind this"
   ]
  },
  {
   "cell_type": "code",
   "execution_count": null,
   "metadata": {},
   "outputs": [],
   "source": [
    "'''This is plotting section'''\n",
    "fig, ax = plt.subplots(figsize=(20,8))\n",
    "a = total_amount.index[0:div] # this is the date ex: '2010-10-1, 2010-10-2, 2010-10-3'\n",
    "ax.plot(a, train_y, \"k\", label=\"Train sets\", color=\"green\") # i put on the plot for our expected output, this is the color green\n",
    "ax.plot(a, yhat, \"k--\", label=\"Prediction\", color=\"red\") # here is the plot for prediction, this is color red in our plot\n",
    "ax.legend(loc=\"upper right\", shadow=True, fontsize=20)\n",
    "plt.xticks(rotation=\"vertical\")\n",
    "plt.title(\"Train Prediction\", fontsize=30)\n",
    "plt.xlabel(\"Sales in a Months\", fontsize=20)\n",
    "plt.ylabel(\"Sale in a Month\", fontsize=20)\n",
    "plt.show()"
   ]
  },
  {
   "cell_type": "markdown",
   "metadata": {},
   "source": [
    "#### We can see here the postive outcome of our model, the sets are not overfit, so lets check the prediction below for test "
   ]
  },
  {
   "cell_type": "code",
   "execution_count": null,
   "metadata": {
    "collapsed": true
   },
   "outputs": [],
   "source": [
    "test_yhat = svr_lin.predict(test_x)"
   ]
  },
  {
   "cell_type": "code",
   "execution_count": null,
   "metadata": {},
   "outputs": [],
   "source": [
    "fig, ax = plt.subplots(figsize=(20,8))\n",
    "a = total_amount.index[div:div_len]\n",
    "ax.plot(a, test_y, \"k\", color=\"green\", label=\"Train Test\")\n",
    "ax.plot(a, test_yhat, \"k--\", color=\"red\", label=\"Prediction Test\")\n",
    "ax.legend(loc=\"upper left\", shadow=True, fontsize=20)\n",
    "plt.title(\"Test Prediction\", fontsize=30)\n",
    "plt.xticks(rotation=\"vertical\")\n",
    "plt.xlabel(\"Months Sale\", fontsize=20)\n",
    "plt.ylabel(\"Sale in Month\", fontsize=20)\n",
    "plt.show()"
   ]
  },
  {
   "cell_type": "markdown",
   "metadata": {},
   "source": [
    "#### as we can see in the test sets, our graph for prediction is good, and we have a positive outcome, so we predict the sales by every month and also a year"
   ]
  },
  {
   "cell_type": "markdown",
   "metadata": {},
   "source": [
    "#    "
   ]
  },
  {
   "cell_type": "markdown",
   "metadata": {},
   "source": [
    "#    "
   ]
  },
  {
   "cell_type": "markdown",
   "metadata": {},
   "source": [
    "# Correlation item with other items"
   ]
  },
  {
   "cell_type": "code",
   "execution_count": null,
   "metadata": {},
   "outputs": [],
   "source": [
    "prod_prof.head()"
   ]
  },
  {
   "cell_type": "code",
   "execution_count": null,
   "metadata": {
    "scrolled": true
   },
   "outputs": [],
   "source": [
    "corr = pd.read_csv(\"datasets//correlation.zip\", index_col=0, compression=\"zip\")\n",
    "corr.head()"
   ]
  },
  {
   "cell_type": "markdown",
   "metadata": {},
   "source": [
    "as we can see above, customer ID brough some items"
   ]
  },
  {
   "cell_type": "code",
   "execution_count": null,
   "metadata": {
    "collapsed": true
   },
   "outputs": [],
   "source": [
    "cor_ = corr.corr()"
   ]
  },
  {
   "cell_type": "code",
   "execution_count": null,
   "metadata": {},
   "outputs": [],
   "source": [
    "corr.columns"
   ]
  },
  {
   "cell_type": "code",
   "execution_count": null,
   "metadata": {
    "collapsed": true
   },
   "outputs": [],
   "source": []
  },
  {
   "cell_type": "code",
   "execution_count": null,
   "metadata": {},
   "outputs": [],
   "source": [
    "def corr_items(item):\n",
    "    list_item = cor_[item].sort_values(ascending=False).head(10)\n",
    "    plt.figure(figsize=(12,8))\n",
    "    sns.barplot(list_item.index, list_item.values)\n",
    "    plt.title(\"Correlated Items\", fontsize=30)\n",
    "    plt.xlabel(\"Items\", fontsize=20)\n",
    "    plt.ylabel(\"Percentage of correlate\", fontsize=20)\n",
    "    plt.xticks(rotation=\"vertical\")\n",
    "    plt.show()\n",
    "    return\n",
    "\n",
    "item = \"FIRE POLISHED GLASS NECKL GOLD\"\n",
    "corr_items(item)"
   ]
  },
  {
   "cell_type": "markdown",
   "metadata": {
    "collapsed": true
   },
   "source": [
    "As per the graph above, if we it can give the correlation items"
   ]
  },
  {
   "cell_type": "markdown",
   "metadata": {
    "collapsed": true
   },
   "source": [
    "# Model Prediction"
   ]
  },
  {
   "cell_type": "code",
   "execution_count": null,
   "metadata": {
    "collapsed": true
   },
   "outputs": [],
   "source": [
    "#for_pred = prod_prof\n",
    "#new_inv = for_pred[\"InvoiceDate\"].apply(lambda x:str(x.year) + \"-\" + str(x.month))\n",
    "#for_pred[\"InvoiceDate\"] = new_inv\n",
    "#for_pred.head()"
   ]
  },
  {
   "cell_type": "code",
   "execution_count": null,
   "metadata": {
    "collapsed": true
   },
   "outputs": [],
   "source": [
    "#summary_sets = for_pred.groupby(\"InvoiceDate\")[\"TotalAmount\"].agg({\"TotalAmount\":[\"sum\",\"count\"]})\n",
    "#summary_sets"
   ]
  },
  {
   "cell_type": "markdown",
   "metadata": {},
   "source": [
    "# Summary sets sale every months"
   ]
  },
  {
   "cell_type": "code",
   "execution_count": null,
   "metadata": {
    "collapsed": true
   },
   "outputs": [],
   "source": [
    "#plt.figure(figsize=(12,8))\n",
    "#sns.barplot(summary_sets[\"TotalAmount\"][\"sum\"].index, summary_sets[\"TotalAmount\"][\"sum\"].values)\n",
    "#plt.show()"
   ]
  },
  {
   "cell_type": "code",
   "execution_count": null,
   "metadata": {
    "collapsed": true
   },
   "outputs": [],
   "source": []
  }
 ],
 "metadata": {
  "kernelspec": {
   "display_name": "Python 3",
   "language": "python",
   "name": "python3"
  },
  "language_info": {
   "codemirror_mode": {
    "name": "ipython",
    "version": 3
   },
   "file_extension": ".py",
   "mimetype": "text/x-python",
   "name": "python",
   "nbconvert_exporter": "python",
   "pygments_lexer": "ipython3",
   "version": "3.6.3"
  }
 },
 "nbformat": 4,
 "nbformat_minor": 2
}
