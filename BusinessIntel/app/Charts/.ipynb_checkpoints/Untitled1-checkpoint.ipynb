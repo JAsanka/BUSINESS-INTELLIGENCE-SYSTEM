{
 "cells": [
  {
   "cell_type": "code",
   "execution_count": 62,
   "metadata": {
    "collapsed": true
   },
   "outputs": [],
   "source": [
    "import pandas as pd\n",
    "import seaborn as sns\n",
    "import matplotlib.pyplot as plt\n",
    "import numpy as np"
   ]
  },
  {
   "cell_type": "code",
   "execution_count": 63,
   "metadata": {},
   "outputs": [],
   "source": [
    " file = \"new_sets.csv\"\n",
    " df = pd.read_csv(file, index_col=0)"
   ]
  },
  {
   "cell_type": "markdown",
   "metadata": {},
   "source": [
    "I clean the datasets here"
   ]
  },
  {
   "cell_type": "code",
   "execution_count": 64,
   "metadata": {},
   "outputs": [
    {
     "data": {
      "text/html": [
       "<div>\n",
       "<style scoped>\n",
       "    .dataframe tbody tr th:only-of-type {\n",
       "        vertical-align: middle;\n",
       "    }\n",
       "\n",
       "    .dataframe tbody tr th {\n",
       "        vertical-align: top;\n",
       "    }\n",
       "\n",
       "    .dataframe thead th {\n",
       "        text-align: right;\n",
       "    }\n",
       "</style>\n",
       "<table border=\"1\" class=\"dataframe\">\n",
       "  <thead>\n",
       "    <tr style=\"text-align: right;\">\n",
       "      <th></th>\n",
       "      <th>InvoiceNo</th>\n",
       "      <th>InvoiceDate</th>\n",
       "      <th>CustomerID</th>\n",
       "      <th>Description</th>\n",
       "      <th>Quantity</th>\n",
       "      <th>UnitPrice</th>\n",
       "      <th>BroughtPrice</th>\n",
       "      <th>Profit</th>\n",
       "    </tr>\n",
       "  </thead>\n",
       "  <tbody>\n",
       "    <tr>\n",
       "      <th>0</th>\n",
       "      <td>536365</td>\n",
       "      <td>2010-12-01</td>\n",
       "      <td>17850.0</td>\n",
       "      <td>WHITE HANGING HEART T-LIGHT HOLDER</td>\n",
       "      <td>6</td>\n",
       "      <td>2.55</td>\n",
       "      <td>2.040</td>\n",
       "      <td>0.510</td>\n",
       "    </tr>\n",
       "    <tr>\n",
       "      <th>1</th>\n",
       "      <td>536365</td>\n",
       "      <td>2010-12-01</td>\n",
       "      <td>17850.0</td>\n",
       "      <td>WHITE METAL LANTERN</td>\n",
       "      <td>6</td>\n",
       "      <td>3.39</td>\n",
       "      <td>2.712</td>\n",
       "      <td>0.678</td>\n",
       "    </tr>\n",
       "    <tr>\n",
       "      <th>2</th>\n",
       "      <td>536365</td>\n",
       "      <td>2010-12-01</td>\n",
       "      <td>17850.0</td>\n",
       "      <td>CREAM CUPID HEARTS COAT HANGER</td>\n",
       "      <td>8</td>\n",
       "      <td>2.75</td>\n",
       "      <td>2.200</td>\n",
       "      <td>0.550</td>\n",
       "    </tr>\n",
       "    <tr>\n",
       "      <th>3</th>\n",
       "      <td>536365</td>\n",
       "      <td>2010-12-01</td>\n",
       "      <td>17850.0</td>\n",
       "      <td>KNITTED UNION FLAG HOT WATER BOTTLE</td>\n",
       "      <td>6</td>\n",
       "      <td>3.39</td>\n",
       "      <td>2.712</td>\n",
       "      <td>0.678</td>\n",
       "    </tr>\n",
       "    <tr>\n",
       "      <th>4</th>\n",
       "      <td>536365</td>\n",
       "      <td>2010-12-01</td>\n",
       "      <td>17850.0</td>\n",
       "      <td>RED WOOLLY HOTTIE WHITE HEART.</td>\n",
       "      <td>6</td>\n",
       "      <td>3.39</td>\n",
       "      <td>2.712</td>\n",
       "      <td>0.678</td>\n",
       "    </tr>\n",
       "  </tbody>\n",
       "</table>\n",
       "</div>"
      ],
      "text/plain": [
       "  InvoiceNo InvoiceDate  CustomerID                          Description  \\\n",
       "0    536365  2010-12-01     17850.0   WHITE HANGING HEART T-LIGHT HOLDER   \n",
       "1    536365  2010-12-01     17850.0                  WHITE METAL LANTERN   \n",
       "2    536365  2010-12-01     17850.0       CREAM CUPID HEARTS COAT HANGER   \n",
       "3    536365  2010-12-01     17850.0  KNITTED UNION FLAG HOT WATER BOTTLE   \n",
       "4    536365  2010-12-01     17850.0       RED WOOLLY HOTTIE WHITE HEART.   \n",
       "\n",
       "   Quantity  UnitPrice  BroughtPrice  Profit  \n",
       "0         6       2.55         2.040   0.510  \n",
       "1         6       3.39         2.712   0.678  \n",
       "2         8       2.75         2.200   0.550  \n",
       "3         6       3.39         2.712   0.678  \n",
       "4         6       3.39         2.712   0.678  "
      ]
     },
     "execution_count": 64,
     "metadata": {},
     "output_type": "execute_result"
    }
   ],
   "source": [
    "desc = df[\"Description\"].value_counts()\n",
    "df[\"InvoiceDate\"] = pd.to_datetime(df[\"InvoiceDate\"]).dt.date\n",
    "df.head()"
   ]
  },
  {
   "cell_type": "markdown",
   "metadata": {},
   "source": [
    "# Product should be kept"
   ]
  },
  {
   "cell_type": "markdown",
   "metadata": {},
   "source": [
    "##### We can see here in the bar Chart the items need to be kept and order more quantity and we can answer the question what product most profitable and product to be kept"
   ]
  },
  {
   "cell_type": "code",
   "execution_count": null,
   "metadata": {
    "collapsed": true
   },
   "outputs": [],
   "source": [
    "plt.figure(figsize=(12,8))\n",
    "sns.barplot(desc.head(40).index, desc.head(40).values)\n",
    "plt.xticks(rotation=\"vertical\")\n",
    "plt.title(\"Most Item sold from 2010-2011\", fontsize=20)\n",
    "plt.xlabel(\"Item Description\", fontsize=15)\n",
    "plt.ylabel(\"Item Quantity\")\n",
    "plt.show()"
   ]
  },
  {
   "cell_type": "markdown",
   "metadata": {},
   "source": [
    "# Items sold within a Year"
   ]
  },
  {
   "cell_type": "code",
   "execution_count": null,
   "metadata": {
    "collapsed": true
   },
   "outputs": [],
   "source": [
    "inv_data = df[\"InvoiceDate\"].value_counts().sort_index()\n",
    "tem=df.groupby(['InvoiceDate']).sum()\n",
    "inv_data\n",
    "\n"
   ]
  },
  {
   "cell_type": "markdown",
   "metadata": {},
   "source": [
    "#### Here at the new chart, we can see the summary items most purchased by  months."
   ]
  },
  {
   "cell_type": "code",
   "execution_count": null,
   "metadata": {
    "collapsed": true
   },
   "outputs": [],
   "source": [
    "plt.figure(figsize=(12,8))\n",
    "inv_data.plot(color=\"red\")\n",
    "plt.xticks(rotation=\"vertical\", fontsize=15)\n",
    "plt.title(\"Summary for item Sold in a Year\", fontsize=20)\n",
    "plt.xlabel(\"Months\", fontsize=15)\n",
    "plt.ylabel(\"Item Release Quantity\", fontsize=15)\n",
    "plt.show()"
   ]
  },
  {
   "cell_type": "markdown",
   "metadata": {},
   "source": [
    "# Customer who buy more often"
   ]
  },
  {
   "cell_type": "markdown",
   "metadata": {},
   "source": [
    "#### Here we can see at the chart below the customer who purchased more using by their Customer ID"
   ]
  },
  {
   "cell_type": "code",
   "execution_count": null,
   "metadata": {
    "collapsed": true
   },
   "outputs": [],
   "source": [
    "custID = df[\"CustomerID\"].value_counts().reset_index()\n",
    "custID.columns = [\"CustID\",\"Items they buyed\"]\n",
    "custID[\"CustID\"] = custID[\"CustID\"].apply(str)\n",
    "custIDx = custID.sort_values(\"Items they buyed\", ascending=False).head(40)\n",
    "custIDx.head()"
   ]
  },
  {
   "cell_type": "code",
   "execution_count": null,
   "metadata": {
    "collapsed": true
   },
   "outputs": [],
   "source": [
    "plt.figure(figsize=(12,8))\n",
    "g = sns.barplot(custIDx.index, custIDx[\"Items they buyed\"])\n",
    "g.set_xticklabels(custIDx[\"CustID\"], rotation=\"vertical\")\n",
    "plt.title(\"Customer who buy more often\", fontsize=20)\n",
    "plt.xlabel(\"Customer ID\", fontsize=15)\n",
    "plt.ylabel(\"Item Frequency\", fontsize=15)\n",
    "plt.show()"
   ]
  },
  {
   "cell_type": "markdown",
   "metadata": {},
   "source": [
    "##### I Add the Total Amount for the item they purchased \"Quantity\" x \"Unit Price\" = \"Total Amount\", so I can graph the total amount they purchased per Customer"
   ]
  },
  {
   "cell_type": "code",
   "execution_count": null,
   "metadata": {
    "collapsed": true
   },
   "outputs": [],
   "source": [
    "prod_prof = df\n",
    "prod_prof[\"TotalAmount\"] = prod_prof[\"Quantity\"]*prod_prof[\"UnitPrice\"]\n",
    "prod_prof.head()"
   ]
  },
  {
   "cell_type": "code",
   "execution_count": 76,
   "metadata": {},
   "outputs": [
    {
     "data": {
      "text/plain": [
       "(305, 6)"
      ]
     },
     "execution_count": 76,
     "metadata": {},
     "output_type": "execute_result"
    }
   ],
   "source": [
    "prod_prof = df\n",
    "prod_prof[\"TotalAmount\"] = prod_prof[\"Quantity\"]*prod_prof[\"UnitPrice\"]\n",
    "prod_prof.head()\n",
    "prod_prof[\"TotalAmount\"].sum() # Anually Sale\n",
    "total_amount = prod_prof.groupby(\"InvoiceDate\")[\"TotalAmount\",\"Quantity\",\"UnitPrice\"].agg({\"TotalAmount\":[\"sum\",\"count\"],\n",
    "                                                                   \"Quantity\":[\"sum\",\"count\"],\n",
    "                                                                   \"UnitPrice\":[\"sum\",\"count\"]})\n",
    "total_amount.head()"
   ]
  },
  {
   "cell_type": "code",
   "execution_count": 80,
   "metadata": {
    "collapsed": true
   },
   "outputs": [],
   "source": [
    "x=df.set_index(\"InvoiceDate\")\n",
    "x.Date = x.to_datetime(x.index)"
   ]
  },
  {
   "cell_type": "code",
   "execution_count": 82,
   "metadata": {},
   "outputs": [
    {
     "ename": "AttributeError",
     "evalue": "'SeriesGroupBy' object has no attribute 'Quantity'",
     "output_type": "error",
     "traceback": [
      "\u001b[0;31m---------------------------------------------------------------------------\u001b[0m",
      "\u001b[0;31mAttributeError\u001b[0m                            Traceback (most recent call last)",
      "\u001b[0;32m<ipython-input-82-49039ebda891>\u001b[0m in \u001b[0;36m<module>\u001b[0;34m()\u001b[0m\n\u001b[0;32m----> 1\u001b[0;31m \u001b[0mx\u001b[0m \u001b[0;34m=\u001b[0m \u001b[0mx\u001b[0m\u001b[0;34m.\u001b[0m\u001b[0mgroupby\u001b[0m\u001b[0;34m(\u001b[0m\u001b[0;34m'InvoiceDate'\u001b[0m\u001b[0;34m)\u001b[0m\u001b[0;34m.\u001b[0m\u001b[0mQuantity\u001b[0m\u001b[0;34m.\u001b[0m\u001b[0msum\u001b[0m\u001b[0;34m(\u001b[0m\u001b[0;34m)\u001b[0m\u001b[0;34m\u001b[0m\u001b[0m\n\u001b[0m\u001b[1;32m      2\u001b[0m \u001b[0;34m\u001b[0m\u001b[0m\n\u001b[1;32m      3\u001b[0m \u001b[0mx\u001b[0m\u001b[0;34m.\u001b[0m\u001b[0mDate\u001b[0m \u001b[0;34m=\u001b[0m \u001b[0mx\u001b[0m\u001b[0;34m.\u001b[0m\u001b[0mto_datetime\u001b[0m\u001b[0;34m(\u001b[0m\u001b[0mx\u001b[0m\u001b[0;34m.\u001b[0m\u001b[0mindex\u001b[0m\u001b[0;34m)\u001b[0m\u001b[0;34m\u001b[0m\u001b[0m\n\u001b[1;32m      4\u001b[0m \u001b[0mx\u001b[0m\u001b[0;34m\u001b[0m\u001b[0m\n",
      "\u001b[0;32m~/.local/lib/python3.6/site-packages/pandas/core/groupby.py\u001b[0m in \u001b[0;36m__getattr__\u001b[0;34m(self, attr)\u001b[0m\n\u001b[1;32m    550\u001b[0m \u001b[0;34m\u001b[0m\u001b[0m\n\u001b[1;32m    551\u001b[0m         raise AttributeError(\"%r object has no attribute %r\" %\n\u001b[0;32m--> 552\u001b[0;31m                              (type(self).__name__, attr))\n\u001b[0m\u001b[1;32m    553\u001b[0m \u001b[0;34m\u001b[0m\u001b[0m\n\u001b[1;32m    554\u001b[0m     \u001b[0mplot\u001b[0m \u001b[0;34m=\u001b[0m \u001b[0mproperty\u001b[0m\u001b[0;34m(\u001b[0m\u001b[0mGroupByPlot\u001b[0m\u001b[0;34m)\u001b[0m\u001b[0;34m\u001b[0m\u001b[0m\n",
      "\u001b[0;31mAttributeError\u001b[0m: 'SeriesGroupBy' object has no attribute 'Quantity'"
     ]
    }
   ],
   "source": [
    "x = x.groupby('InvoiceDate').Quantity.sum()\n",
    "\n",
    "x"
   ]
  },
  {
   "cell_type": "code",
   "execution_count": null,
   "metadata": {
    "collapsed": true,
    "scrolled": false
   },
   "outputs": [],
   "source": [
    "plt.figure(figsize=(12,8))\n",
    "tA = total_amount[\"TotalAmount\"][\"sum\"]\n",
    "tA.values\n"
   ]
  },
  {
   "cell_type": "markdown",
   "metadata": {},
   "source": [
    "# Model using SVR Polynomial"
   ]
  },
  {
   "cell_type": "code",
   "execution_count": null,
   "metadata": {
    "collapsed": true
   },
   "outputs": [],
   "source": [
    "prod_prof.head()"
   ]
  },
  {
   "cell_type": "code",
   "execution_count": null,
   "metadata": {
    "collapsed": true
   },
   "outputs": [],
   "source": [
    "from sklearn.svm import SVR\n",
    "from sklearn.model_selection import train_test_split\n",
    "from sklearn.metrics import accuracy_score\n",
    "total_amount.head()"
   ]
  },
  {
   "cell_type": "code",
   "execution_count": null,
   "metadata": {
    "collapsed": true
   },
   "outputs": [],
   "source": [
    "y = total_amount[\"TotalAmount\"][\"sum\"].values\n",
    "X = total_amount[[\"Quantity\",\"UnitPrice\"]].values"
   ]
  },
  {
   "cell_type": "markdown",
   "metadata": {},
   "source": [
    "### I Split the datasets by 30%"
   ]
  },
  {
   "cell_type": "code",
   "execution_count": null,
   "metadata": {
    "collapsed": true
   },
   "outputs": [],
   "source": [
    "train_x, test_x, train_y, test_y = train_test_split(X, y, test_size=0.30, random_state=415) "
   ]
  },
  {
   "cell_type": "code",
   "execution_count": null,
   "metadata": {
    "collapsed": true
   },
   "outputs": [],
   "source": [
    "svr_lin = SVR(kernel=\"poly\", C=1e-5, degree=1, max_iter=1000)\n",
    "svr_lin.fit(train_x, train_y)\n",
    "yhat = svr_lin.predict(train_x)\n",
    "div = len(train_y)\n",
    "div_len = len(total_amount)"
   ]
  },
  {
   "cell_type": "code",
   "execution_count": null,
   "metadata": {
    "collapsed": true
   },
   "outputs": [],
   "source": [
    "fig, ax = plt.subplots(figsize=(20,8))\n",
    "a = total_amount.index[0:div]\n",
    "ax.plot(a, train_y, \"k\", label=\"Train sets\", color=\"green\")\n",
    "ax.plot(a, yhat, \"k--\", label=\"Prediction\", color=\"red\")\n",
    "ax.legend(loc=\"upper right\", shadow=True, fontsize=20)\n",
    "plt.xticks(rotation=\"vertical\")\n",
    "plt.title(\"Train Prediction\", fontsize=30)\n",
    "plt.xlabel(\"Sales in a Months\", fontsize=20)\n",
    "plt.ylabel(\"Sale in a Month\", fontsize=20)\n",
    "plt.show()"
   ]
  },
  {
   "cell_type": "markdown",
   "metadata": {},
   "source": [
    "#### We can see here the postive outcome of our model, the sets are not overfit, so lets check the prediction below for test "
   ]
  },
  {
   "cell_type": "code",
   "execution_count": null,
   "metadata": {
    "collapsed": true
   },
   "outputs": [],
   "source": [
    "test_yhat = svr_lin.predict(test_x)"
   ]
  },
  {
   "cell_type": "code",
   "execution_count": null,
   "metadata": {
    "collapsed": true
   },
   "outputs": [],
   "source": [
    "fig, ax = plt.subplots(figsize=(20,8))\n",
    "a = total_amount.index[div:div_len]\n",
    "ax.plot(a, test_y, \"k\", color=\"green\", label=\"Train Test\")\n",
    "ax.plot(a, test_yhat, \"k--\", color=\"red\", label=\"Prediction Test\")\n",
    "ax.legend(loc=\"upper left\", shadow=True, fontsize=20)\n",
    "plt.title(\"Test Prediction\", fontsize=30)\n",
    "plt.xticks(rotation=\"vertical\")\n",
    "plt.xlabel(\"Months Sale\", fontsize=20)\n",
    "plt.ylabel(\"Sale in Month\", fontsize=20)\n",
    "plt.show()"
   ]
  },
  {
   "cell_type": "markdown",
   "metadata": {},
   "source": [
    "#### as we can see in the test sets, our graph for prediction is good, and we have a positive outcome, so we predict the sales by every month and also a year"
   ]
  },
  {
   "cell_type": "code",
   "execution_count": null,
   "metadata": {
    "collapsed": true
   },
   "outputs": [],
   "source": [
    "prod_prof.head()"
   ]
  },
  {
   "cell_type": "code",
   "execution_count": null,
   "metadata": {
    "collapsed": true,
    "scrolled": true
   },
   "outputs": [],
   "source": [
    "corr = pd.read_csv(\"datasets//correlation.csv\", index_col=0)\n",
    "corr.head()"
   ]
  },
  {
   "cell_type": "code",
   "execution_count": null,
   "metadata": {
    "collapsed": true
   },
   "outputs": [],
   "source": [
    "from scipy.stats import pearsonr\n",
    "pearsonr(corr)"
   ]
  },
  {
   "cell_type": "code",
   "execution_count": null,
   "metadata": {
    "collapsed": true
   },
   "outputs": [],
   "source": [
    "cor_ = corr.corr()"
   ]
  },
  {
   "cell_type": "code",
   "execution_count": null,
   "metadata": {
    "collapsed": true
   },
   "outputs": [],
   "source": [
    "corr.columns"
   ]
  },
  {
   "cell_type": "code",
   "execution_count": null,
   "metadata": {
    "collapsed": true
   },
   "outputs": [],
   "source": [
    "def corr_items(item):\n",
    "    list_item = cor_[item].sort_values(ascending=False).head(10)\n",
    "    plt.figure(figsize=(12,8))\n",
    "    sns.barplot(list_item.index, list_item.values)\n",
    "    plt.title(\"Correlated Items\", fontsize=30)\n",
    "    plt.xlabel(\"Items\", fontsize=20)\n",
    "    plt.ylabel(\"Percentage of correlate\", fontsize=20)\n",
    "    plt.xticks(rotation=\"vertical\")\n",
    "    plt.show()\n",
    "    return\n",
    "\n",
    "item = \"WHITE HANGING HEART T-LIGHT HOLDER\"\n",
    "corr_items(item)"
   ]
  },
  {
   "cell_type": "code",
   "execution_count": null,
   "metadata": {
    "collapsed": true
   },
   "outputs": [],
   "source": []
  },
  {
   "cell_type": "code",
   "execution_count": null,
   "metadata": {
    "collapsed": true
   },
   "outputs": [],
   "source": []
  }
 ],
 "metadata": {
  "kernelspec": {
   "display_name": "Python 3",
   "language": "python",
   "name": "python3"
  },
  "language_info": {
   "codemirror_mode": {
    "name": "ipython",
    "version": 3
   },
   "file_extension": ".py",
   "mimetype": "text/x-python",
   "name": "python",
   "nbconvert_exporter": "python",
   "pygments_lexer": "ipython3",
   "version": "3.6.3"
  }
 },
 "nbformat": 4,
 "nbformat_minor": 2
}
